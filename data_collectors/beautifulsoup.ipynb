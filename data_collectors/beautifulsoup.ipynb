{
 "cells": [
  {
   "cell_type": "code",
   "execution_count": 25,
   "metadata": {},
   "outputs": [],
   "source": [
    "from bs4 import BeautifulSoup\n",
    "import requests as rq\n",
    "import json\n",
    "import pandas as pd\n",
    "import numpy as np\n",
    "import re"
   ]
  },
  {
   "cell_type": "code",
   "execution_count": 30,
   "metadata": {},
   "outputs": [],
   "source": [
    "file_path = \"processed_data_that_scrapped_with_scrapy_test.csv\"\n",
    "df = pd.read_csv(file_path)"
   ]
  },
  {
   "cell_type": "code",
   "execution_count": 31,
   "metadata": {},
   "outputs": [],
   "source": [
    "new_df = df[df[\"review_text\"].isna()]"
   ]
  },
  {
   "cell_type": "code",
   "execution_count": 32,
   "metadata": {},
   "outputs": [
    {
     "data": {
      "text/plain": [
       "5668"
      ]
     },
     "execution_count": 32,
     "metadata": {},
     "output_type": "execute_result"
    }
   ],
   "source": [
    "nan_indices = new_df.index\n",
    "len(nan_indices)"
   ]
  },
  {
   "cell_type": "code",
   "execution_count": 34,
   "metadata": {},
   "outputs": [],
   "source": [
    "def scrapy(df,nan_indices):\n",
    "    # review_texts = []\n",
    "    # review_values = []\n",
    "    for index in nan_indices:\n",
    "        url = df.loc[index][\"Link\"]\n",
    "        # print(url)\n",
    "        try:\n",
    "            response = rq.get(url)\n",
    "\n",
    "            if response.status_code == 200:\n",
    "                soup = BeautifulSoup(response.text, \"lxml\")\n",
    "\n",
    "                name = soup.find(\"div\", id='appHubAppName', class_ = 'apphub_AppName').text\n",
    "                parent_div = soup.find('div', class_ = \"summary_section\")\n",
    "                review_summary = parent_div.find_all('span')\n",
    "\n",
    "                span_text = \"\"\n",
    "                span_value = \"\"\n",
    "\n",
    "                for i, span in enumerate(review_summary):\n",
    "                    if i ==0:\n",
    "                        span_text = span.text.strip()\n",
    "                    elif i==1:\n",
    "                        span_value = re.sub(r'[^\\d,]', '', span.text.strip())\n",
    "\n",
    "                # review_texts.append(span_text)\n",
    "                # review_values.append(span_value)\n",
    "                # print(\"response 200 döndü.\")\n",
    "                df.loc[index,\"review_text\"] = span_text\n",
    "                df.loc[index, \"review_value\"] = span_value\n",
    "            else:\n",
    "                # Hata durumunda NaN ekleyelim\n",
    "                print(url,\"response 200 dönmedi.\")\n",
    "                df.loc[index,\"review_text\"] = np.nan\n",
    "                df.loc[index, \"review_value\"] = np.nan\n",
    "        except Exception as e:\n",
    "            print(f\"Hata oluştu: {e}\")\n",
    "            # # Hata durumunda boş değerler ekle\n",
    "            # review_texts.append(None)\n",
    "            # review_values.append(None)\n",
    "\n",
    "    # data[\"Review Text\"] = review_texts\n",
    "    # data[\"Review Value\"] = review_values\n",
    "\n",
    "    return df"
   ]
  },
  {
   "cell_type": "code",
   "execution_count": null,
   "metadata": {},
   "outputs": [],
   "source": [
    "df_new = scrapy(df, nan_indices)"
   ]
  },
  {
   "cell_type": "code",
   "execution_count": 37,
   "metadata": {},
   "outputs": [
    {
     "data": {
      "text/plain": [
       "Title                         0\n",
       "Original Price                0\n",
       "Discounted Price              0\n",
       "Release Date                  0\n",
       "Link                          0\n",
       "Game Description            148\n",
       "Recent Reviews Summary     5419\n",
       "All Reviews Summary       56268\n",
       "Recent Reviews Number      5419\n",
       "All Reviews Number        56268\n",
       "Developer                   171\n",
       "Publisher                   399\n",
       "Supported Languages           0\n",
       "Popular Tags                  0\n",
       "Game Features                 0\n",
       "Minimum Requirements       1047\n",
       "Memory_mb                  4593\n",
       "Storage_mb                 5563\n",
       "review_text                3149\n",
       "review_value               3149\n",
       "dtype: int64"
      ]
     },
     "execution_count": 37,
     "metadata": {},
     "output_type": "execute_result"
    }
   ],
   "source": [
    "df_new.isna().sum()"
   ]
  },
  {
   "cell_type": "code",
   "execution_count": 39,
   "metadata": {},
   "outputs": [],
   "source": [
    "df_new.to_csv(\"processed_data_scrapped_with_scrapy_and_beautifulsoup.csv\", index = False)"
   ]
  }
 ],
 "metadata": {
  "kernelspec": {
   "display_name": "Python 3",
   "language": "python",
   "name": "python3"
  },
  "language_info": {
   "codemirror_mode": {
    "name": "ipython",
    "version": 3
   },
   "file_extension": ".py",
   "mimetype": "text/x-python",
   "name": "python",
   "nbconvert_exporter": "python",
   "pygments_lexer": "ipython3",
   "version": "3.9.10"
  }
 },
 "nbformat": 4,
 "nbformat_minor": 2
}
